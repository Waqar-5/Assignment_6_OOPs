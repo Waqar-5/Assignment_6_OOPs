{
  "nbformat": 4,
  "nbformat_minor": 0,
  "metadata": {
    "colab": {
      "provenance": []
    },
    "kernelspec": {
      "name": "python3",
      "display_name": "Python 3"
    },
    "language_info": {
      "name": "python"
    }
  },
  "cells": [
    {
      "cell_type": "markdown",
      "source": [
        ". Using self\n",
        "Assignment:\n",
        "Create a class Student with attributes name and marks. Use the self keyword to initialize these values via a constructor. Add a method display() that prints student details.\n",
        "\n"
      ],
      "metadata": {
        "id": "ilFcFqCsAnuM"
      }
    },
    {
      "cell_type": "code",
      "source": [
        "class Student:\n",
        "   # Constructor with self: refers to the current object\n",
        "  def __init__(self, name, marks):\n",
        "    self.name = name  # instance variable\n",
        "    self.marks = marks  # 'self' refers to the current object instance\n",
        "\n",
        "  def display(self):   # Instance method\n",
        "    print(f\"Name: {self.name} \\n Marks: {self.marks}\")\n",
        "\n",
        "s1 = Student(\"Waqar\", 95)\n",
        "\n",
        "s1.display()"
      ],
      "metadata": {
        "colab": {
          "base_uri": "https://localhost:8080/"
        },
        "id": "93QY4fgeArKh",
        "outputId": "a843e3a5-8c00-4cba-cf56-e5911ea573b7"
      },
      "execution_count": null,
      "outputs": [
        {
          "output_type": "stream",
          "name": "stdout",
          "text": [
            "Name: Waqar \n",
            "Marks: 95\n"
          ]
        }
      ]
    },
    {
      "cell_type": "markdown",
      "source": [
        "2. Using cls\n",
        "Assignment:\n",
        "Create a class Counter that keeps track of how many objects have been created. Use a class variable and a class method with cls to manage and display the count."
      ],
      "metadata": {
        "id": "C0MiAxgjCWew"
      }
    },
    {
      "cell_type": "code",
      "source": [
        "class Counter:\n",
        "  count = 0 # class variable shared by all instances\n",
        "\n",
        "  def __init__(self):\n",
        "    Counter.count += 1   # Increment count on object creation\n",
        "  @classmethod\n",
        "  def show_count(cls):   # cls refers to the class, not instance(# Class method receives class itself as first argument)\n",
        "    print(f\"Total objects created: {cls.count}\")\n",
        "\n",
        "c1 = Counter()\n",
        "c2 = Counter()\n",
        "Counter.show_count()"
      ],
      "metadata": {
        "colab": {
          "base_uri": "https://localhost:8080/"
        },
        "id": "SUu0vOueCe9E",
        "outputId": "ebfbdba4-5268-43a1-fe26-deb9982868cb"
      },
      "execution_count": null,
      "outputs": [
        {
          "output_type": "stream",
          "name": "stdout",
          "text": [
            "Total objects created: 2\n"
          ]
        }
      ]
    },
    {
      "cell_type": "markdown",
      "source": [
        "3. Public Variables and Methods\n",
        "Assignment:\n",
        "Create a class Car with a public variable brand and a public method start(). Instantiate the class and access both from outside the class."
      ],
      "metadata": {
        "id": "dVi_mMSPDwe6"
      }
    },
    {
      "cell_type": "code",
      "source": [
        "class Car:\n",
        "  def __init__(self, brand):\n",
        "    self.brand = brand   # public attribute(variable)\n",
        "\n",
        "  def start(self):  # public method\n",
        "    print(f\"{self.brand} is starting.\")\n",
        "\n",
        "my_car = Car(\"Toyota\")\n",
        "print(my_car.brand)   # accessing public variable( Accessible from outside)\n",
        "my_car.start()    # calling public method(Public method called from outside)"
      ],
      "metadata": {
        "colab": {
          "base_uri": "https://localhost:8080/"
        },
        "id": "22pf1QMuDzNF",
        "outputId": "dc2c0518-0c6d-4603-e863-06777be07033"
      },
      "execution_count": null,
      "outputs": [
        {
          "output_type": "stream",
          "name": "stdout",
          "text": [
            "Toyota\n",
            "Toyota is starting.\n"
          ]
        }
      ]
    },
    {
      "cell_type": "markdown",
      "source": [
        "4. Class Variables and Class Methods\n",
        "Assignment:\n",
        "Create a class Bank with a class variable bank_name. Add a class method change_bank_name(cls, name) that allows changing the bank name. Show that it affects all instances."
      ],
      "metadata": {
        "id": "E4p6nTyfF9NU"
      }
    },
    {
      "cell_type": "code",
      "source": [
        "class Bank:\n",
        "  bank_name = \"MCB Bank\"   # class variable shared across all instances\n",
        "\n",
        "  @classmethod\n",
        "  def change_bank_name(cls, name):   # class method modifies class variable\n",
        "    cls.bank_name = name  #Public method called from outside\n",
        "\n",
        "\n",
        "b1 = Bank()\n",
        "\n",
        "print(b1.bank_name)\n",
        "Bank.change_bank_name(\"New bank\")\n",
        "print(b1.bank_name)"
      ],
      "metadata": {
        "colab": {
          "base_uri": "https://localhost:8080/"
        },
        "id": "wqeCRrlUF_bX",
        "outputId": "7c4f9dd8-d145-4546-d188-e84b979f0b62"
      },
      "execution_count": null,
      "outputs": [
        {
          "output_type": "stream",
          "name": "stdout",
          "text": [
            "MCB Bank\n",
            "New bank\n"
          ]
        }
      ]
    },
    {
      "cell_type": "markdown",
      "source": [
        "5. Static Variables and Static Methods\n",
        "Assignment:\n",
        "Create a class MathUtils with a static method add(a, b) that returns the sum. No class or instance variables should be used."
      ],
      "metadata": {
        "id": "aX4CiygsHbGK"
      }
    },
    {
      "cell_type": "code",
      "source": [
        "class MathUtils:\n",
        "  @staticmethod\n",
        "  def add(a, b):    # Doesn't access class or instance data (# static method doesn't use self or cls)\n",
        "    return a + b\n",
        "\n",
        "print(MathUtils.add(3, 5))"
      ],
      "metadata": {
        "colab": {
          "base_uri": "https://localhost:8080/"
        },
        "id": "4Dat5Hx1Hcp6",
        "outputId": "de6b3732-d396-4450-abf9-f2fa2bd65475"
      },
      "execution_count": null,
      "outputs": [
        {
          "output_type": "stream",
          "name": "stdout",
          "text": [
            "10\n"
          ]
        }
      ]
    },
    {
      "cell_type": "markdown",
      "source": [
        "6. Constructors and Destructors\n",
        "Assignment:\n",
        "Create a class Logger that prints a message when an object is created (constructor) and another message when it is destroyed (destructor)."
      ],
      "metadata": {
        "id": "1Xl_-PTTKcpM"
      }
    },
    {
      "cell_type": "code",
      "source": [
        "class Logger:\n",
        "  def __init__(self):  # constructor: runs on object creation\n",
        "    print(\"Logger object is created\")\n",
        "\n",
        "  def __del__(self):    # destructor: runs on object deletion\n",
        "    print(\"Logger object is destroyed\")\n",
        "\n",
        "log = Logger()\n",
        "del log   # manually deleting to call destructor( Triggers destructor)\n"
      ],
      "metadata": {
        "colab": {
          "base_uri": "https://localhost:8080/"
        },
        "id": "knWVxYKVKdzN",
        "outputId": "32be145d-9f7e-4e8f-c81d-f7aa934a567d"
      },
      "execution_count": null,
      "outputs": [
        {
          "output_type": "stream",
          "name": "stdout",
          "text": [
            "Logger object is created\n",
            "Logger object is destroyed\n"
          ]
        }
      ]
    },
    {
      "cell_type": "markdown",
      "source": [
        "7. Access Modifiers: Public, Private, and Protected\n",
        "Assignment:\n",
        "Create a class Employee with:\n",
        "\n",
        "a public variable name,\n",
        "\n",
        "a protected variable _salary, and\n",
        "\n",
        "a private variable __ssn.\n",
        "\n",
        "Try accessing all three variables from an object of the class and document what happens.\n",
        "\n"
      ],
      "metadata": {
        "id": "mzIWbZGALT3z"
      }
    },
    {
      "cell_type": "code",
      "source": [
        "class Employee:\n",
        "\n",
        "  def __init__(self, name, salary, ssn):\n",
        "    self.name = name   # public\n",
        "    self._salary = salary   # protected (by convention)\n",
        "    self.__ssn = ssn  # private (name mangling)\n",
        "\n",
        "emp = Employee(\"Waqar\", 50000, \"03475698011\")\n",
        "\n",
        "print(emp.name)           # accessible\n",
        "print(emp._salary)        # accessible but discouraged\n",
        "# print(emp.__ssn)        # will raise error\n",
        "print(emp._Employee__ssn) # accessing private with name mangling\n",
        "\n",
        "\n",
        "\n"
      ],
      "metadata": {
        "colab": {
          "base_uri": "https://localhost:8080/"
        },
        "id": "NE6zK0R_LX4n",
        "outputId": "e5b6f75e-3c3e-4ba2-ce80-18258185b532"
      },
      "execution_count": null,
      "outputs": [
        {
          "output_type": "stream",
          "name": "stdout",
          "text": [
            "Waqar\n",
            "50000\n",
            "03475698011\n"
          ]
        }
      ]
    },
    {
      "cell_type": "markdown",
      "source": [
        "8. The super() Function\n",
        "Assignment:\n",
        "Create a class Person with a constructor that sets the name. Inherit a class Teacher from it, add a subject field, and use super() to call the base class constructor"
      ],
      "metadata": {
        "id": "81NROjLGMqNb"
      }
    },
    {
      "cell_type": "code",
      "source": [
        "class Person:\n",
        "  def __init__(self, name):\n",
        "    self.name = name\n",
        "\n",
        "class Teacher(Person):\n",
        "  def __init__(self, name, subject):\n",
        "    super().__init__(name)   # call parent class constructor(# Calls base class constructor)\n",
        "    self.subject = subject\n",
        "\n",
        "t = Teacher(\"Mr. Asad\", \"Math\")\n",
        "print(t.name, t.subject)\n"
      ],
      "metadata": {
        "colab": {
          "base_uri": "https://localhost:8080/"
        },
        "id": "lMHoOdsVMrnM",
        "outputId": "41a4823e-c25f-4e7c-b3b0-cdd2bb45ce99"
      },
      "execution_count": null,
      "outputs": [
        {
          "output_type": "stream",
          "name": "stdout",
          "text": [
            "Mr. Asad Math\n"
          ]
        }
      ]
    },
    {
      "cell_type": "markdown",
      "source": [
        "9. Abstract Classes and Methods\n",
        "Assignment:\n",
        "Use the abc module to create an abstract class Shape with an abstract method area(). Inherit a class Rectangle that implements area()."
      ],
      "metadata": {
        "id": "2pv_9oETNcJF"
      }
    },
    {
      "cell_type": "code",
      "source": [
        "from abc import ABC, abstractmethod\n",
        "\n",
        "class Shape(ABC):  # abstract base class\n",
        "  @abstractmethod\n",
        "  def area(self):  # abstract method to be implemented in child\n",
        "    pass\n",
        "\n",
        "class Rectangle(Shape):\n",
        "\n",
        "  def __init__(self, width, height):\n",
        "    self.width = width\n",
        "    self.height = height\n",
        "\n",
        "  def area(self):\n",
        "    return self.width * self.height\n",
        "\n",
        "rect = Rectangle(2, 5)\n",
        "print(rect.area())\n"
      ],
      "metadata": {
        "colab": {
          "base_uri": "https://localhost:8080/"
        },
        "id": "yhtttD6yNdDs",
        "outputId": "5f2f13a1-6e03-4362-cc05-df95167a028b"
      },
      "execution_count": null,
      "outputs": [
        {
          "output_type": "stream",
          "name": "stdout",
          "text": [
            "10\n"
          ]
        }
      ]
    },
    {
      "cell_type": "markdown",
      "source": [
        "10. Instance Methods\n",
        "Assignment:\n",
        "Create a class Dog with instance variables name and breed. Add an instance method bark() that prints a message including the dog's name."
      ],
      "metadata": {
        "id": "t7jt7tJNPPcM"
      }
    },
    {
      "cell_type": "code",
      "source": [
        "class Dog:\n",
        "  def __init__(self, name, breed):\n",
        "    self.name = name\n",
        "    self.breed = breed\n",
        "\n",
        "  def bark(self): # instance method uses self\n",
        "    print(f\"{self.name} is barking!\" )\n",
        "\n",
        "d = Dog(\"buddy\", \"Labrador\")\n",
        "d.bark()"
      ],
      "metadata": {
        "colab": {
          "base_uri": "https://localhost:8080/"
        },
        "id": "_nqpZdXMPQsy",
        "outputId": "1fe5bef4-3c26-4602-f953-694c7af8fb70"
      },
      "execution_count": null,
      "outputs": [
        {
          "output_type": "stream",
          "name": "stdout",
          "text": [
            "buddy is barking!\n"
          ]
        }
      ]
    },
    {
      "cell_type": "markdown",
      "source": [
        "11. Class Methods\n",
        "Assignment:\n",
        "Create a class Book with a class variable total_books. Add a class method increment_book_count() to increase the count when a new book is added."
      ],
      "metadata": {
        "id": "HYWTBFe-QKfB"
      }
    },
    {
      "cell_type": "code",
      "source": [
        "class Book:\n",
        "  total_books = 0  # class variable(Shared by all instances)\n",
        "\n",
        "  @classmethod\n",
        "  def increment_book_count(cls): # class method modifies class variable\n",
        "    cls.total_books += 1\n",
        "\n",
        "\n",
        "Book.increment_book_count()\n",
        "Book.increment_book_count()\n",
        "print(Book.total_books)\n"
      ],
      "metadata": {
        "colab": {
          "base_uri": "https://localhost:8080/"
        },
        "id": "rbnHUvvrQLlo",
        "outputId": "7256713d-21f7-438c-f345-5f5ae637e19d"
      },
      "execution_count": null,
      "outputs": [
        {
          "output_type": "stream",
          "name": "stdout",
          "text": [
            "2\n"
          ]
        }
      ]
    },
    {
      "cell_type": "markdown",
      "source": [
        "12. Static Methods\n",
        "Assignment:\n",
        "Create a class TemperatureConverter with a static method celsius_to_fahrenheit(c) that returns the Fahrenheit value.\n",
        "\n"
      ],
      "metadata": {
        "id": "3kBC_VWZQ2c-"
      }
    },
    {
      "cell_type": "code",
      "source": [
        "class TemperatureConverter:\n",
        "\n",
        "  @staticmethod\n",
        "  def celsius_to_fahrenheit(c):\n",
        "    return(c * 9/5) + 32   # No self or cls used\n",
        "\n",
        "print(TemperatureConverter.celsius_to_fahrenheit(25))"
      ],
      "metadata": {
        "colab": {
          "base_uri": "https://localhost:8080/"
        },
        "id": "gZASdyMUQ3mr",
        "outputId": "cb4e2ca2-0789-4d43-ad0f-9fcc50b8a55c"
      },
      "execution_count": null,
      "outputs": [
        {
          "output_type": "stream",
          "name": "stdout",
          "text": [
            "68.0\n"
          ]
        }
      ]
    },
    {
      "cell_type": "markdown",
      "source": [
        "13. Composition\n",
        "Assignment:\n",
        "Create a class Engine and a class Car. Use composition by passing an Engine object to the Car class during initialization. Access a method of the Engine class via the Car class."
      ],
      "metadata": {
        "id": "CQK42JW0Sxg7"
      }
    },
    {
      "cell_type": "code",
      "source": [
        "class Engine:\n",
        "  def start(self):\n",
        "    print(\"Engine started\")\n",
        "\n",
        "class Car:\n",
        "  def __init__(self, engine):\n",
        "    self.engine = engine  # Composition: Car HAS an Engine\n",
        "\n",
        "  def start_car(self):\n",
        "    self.engine.start() # Using method of composed object\n",
        "\n",
        "\n",
        "e = Engine()\n",
        "c = Car(e)\n",
        "c.start_car()"
      ],
      "metadata": {
        "colab": {
          "base_uri": "https://localhost:8080/"
        },
        "id": "HiabaXrJS52Z",
        "outputId": "b9c51b6c-fd5c-4349-edb2-ca66eba8ae16"
      },
      "execution_count": null,
      "outputs": [
        {
          "output_type": "stream",
          "name": "stdout",
          "text": [
            "Engine started\n"
          ]
        }
      ]
    },
    {
      "cell_type": "markdown",
      "source": [
        "14. Aggregation\n",
        "Assignment:\n",
        "Create a class Department and a class Employee. Use aggregation by having a Department object store a reference to an Employee object that exists independently of it."
      ],
      "metadata": {
        "id": "bjBlEQfOTxle"
      }
    },
    {
      "cell_type": "code",
      "source": [
        "class Employee:\n",
        "  def __init__(self, name):\n",
        "    self.name = name\n",
        "\n",
        "class Department:\n",
        "  def __init__(self, dept_name, employee):\n",
        "    self.dept_name = dept_name\n",
        "    self.employee = employee # Aggregation: uses external object\n",
        "\n",
        "emp = Employee(\"Waqar\")\n",
        "\n",
        "dept = Department(\"Finance\", emp)\n",
        "print(dept.employee.name)"
      ],
      "metadata": {
        "id": "SjVUT96yTy90",
        "colab": {
          "base_uri": "https://localhost:8080/"
        },
        "outputId": "8f743ddd-2588-4c40-ebbf-7e6a413cd0c1"
      },
      "execution_count": null,
      "outputs": [
        {
          "output_type": "stream",
          "name": "stdout",
          "text": [
            "Waqar\n"
          ]
        }
      ]
    },
    {
      "cell_type": "markdown",
      "source": [
        "15. Method Resolution Order (MRO) and Diamond Inheritance\n",
        "Assignment:\n",
        "Create four classes:\n",
        "\n",
        "A with a method show(),\n",
        "\n",
        "B and C that inherit from A and override show(),\n",
        "\n",
        "D that inherits from both B and C.\n",
        "\n",
        "Create an object of D and call show() to observe MRO."
      ],
      "metadata": {
        "id": "8q5UYthB-zMq"
      }
    },
    {
      "cell_type": "code",
      "source": [
        "class A:\n",
        "  def show(self):\n",
        "    print(\"A\")\n",
        "\n",
        "class B(A):\n",
        "  def show(self):\n",
        "    print(B)\n",
        "\n",
        "class C(A):\n",
        "  def show(self):\n",
        "    print(C)\n",
        "\n",
        "class D(B, C):  # Diamond Inheritance\n",
        "  pass\n",
        "\n",
        "d = D()\n",
        "\n",
        "print(d.show())   # Follows MRO: D -> B -> C -> A\n",
        "\n",
        "# print(D.__mro__)\n",
        "\n"
      ],
      "metadata": {
        "colab": {
          "base_uri": "https://localhost:8080/"
        },
        "id": "mpOSG3kS-741",
        "outputId": "e61b8a47-c162-45dc-b6a7-f5deccc96bf1"
      },
      "execution_count": null,
      "outputs": [
        {
          "output_type": "stream",
          "name": "stdout",
          "text": [
            "<class '__main__.B'>\n",
            "None\n"
          ]
        }
      ]
    },
    {
      "cell_type": "markdown",
      "source": [
        "16. Function Decorators\n",
        "Assignment:\n",
        "Write a decorator function log_function_call that prints \"Function is being called\" before a function executes. Apply it to a function say_hello()."
      ],
      "metadata": {
        "id": "005DPtXBBB6w"
      }
    },
    {
      "cell_type": "code",
      "source": [
        "def log_function_call(func):\n",
        "  def wrapper():\n",
        "    print(\"Function is being called\")\n",
        "    func()\n",
        "  return wrapper\n",
        "\n",
        "\n",
        "@log_function_call\n",
        "def say_hello():\n",
        "  print(\"Hello Waqar Ali!\")\n",
        "\n",
        "say_hello()"
      ],
      "metadata": {
        "colab": {
          "base_uri": "https://localhost:8080/"
        },
        "id": "GFxJYrZ0BD7f",
        "outputId": "ba17d862-7ea7-434e-dcd4-91c5a2b5ba39"
      },
      "execution_count": null,
      "outputs": [
        {
          "output_type": "stream",
          "name": "stdout",
          "text": [
            "Function is being called\n",
            "Hello Waqar Ali!\n"
          ]
        }
      ]
    },
    {
      "cell_type": "markdown",
      "source": [
        "17. Class Decorators\n",
        "Assignment:\n",
        "Create a class decorator add_greeting that modifies a class to add a greet() method returning \"Hello from Decorator!\". Apply it to a class Person."
      ],
      "metadata": {
        "id": "ceLMS8n2CDP2"
      }
    },
    {
      "cell_type": "code",
      "source": [
        "def add_greeting (cls):\n",
        "  cls.greet = lambda self: \"Hello from Decrator!\"\n",
        "  return cls\n",
        "\n",
        "@add_greeting\n",
        "class Person:\n",
        "  def __init__(self, name):\n",
        "    self.name = name\n",
        "\n",
        "p = Person(\"Ali\")\n",
        "print(p.greet())\n"
      ],
      "metadata": {
        "colab": {
          "base_uri": "https://localhost:8080/"
        },
        "id": "4S57p21ZCFHt",
        "outputId": "fdf0c538-48af-46d2-a91c-957782c59679"
      },
      "execution_count": 6,
      "outputs": [
        {
          "output_type": "stream",
          "name": "stdout",
          "text": [
            "Hello from Decrator!\n"
          ]
        }
      ]
    },
    {
      "cell_type": "markdown",
      "source": [
        "18. Property Decorators: @property, @setter, and @deleter\n",
        "Assignment:\n",
        "Create a class Product with a private attribute _price. Use @property to get the price, @price.setter to update it, and @price.deleter to delete it."
      ],
      "metadata": {
        "id": "9Ws7QPbiCrFn"
      }
    },
    {
      "cell_type": "code",
      "source": [
        "class Product:\n",
        "  def __init__(self, price):\n",
        "    self._price = price   # Private attribute\n",
        "\n",
        "  @property\n",
        "  def price(self): #getter\n",
        "    return self._price\n",
        "\n",
        "  @price.setter\n",
        "  def price(self, value): #setter\n",
        "    self._price = value\n",
        "\n",
        "  @price.deleter\n",
        "  def price(self):   # Deleter\n",
        "    del self._price\n",
        "\n",
        "\n",
        "p = Product(100)\n",
        "print(p.price)\n",
        "p.price = 150\n",
        "print(p.price)\n",
        "del p.price"
      ],
      "metadata": {
        "colab": {
          "base_uri": "https://localhost:8080/"
        },
        "id": "3xPhqKiUCuwl",
        "outputId": "8523b9f1-8c57-4bdd-c381-0332de7e7602"
      },
      "execution_count": 7,
      "outputs": [
        {
          "output_type": "stream",
          "name": "stdout",
          "text": [
            "100\n",
            "150\n"
          ]
        }
      ]
    },
    {
      "cell_type": "markdown",
      "source": [
        "19. callable() and __call__()\n",
        "Assignment:\n",
        "Create a class Multiplier with an __init__() to set a factor. Define a __call__() method that multiplies an input by the factor. Test it with callable() and by calling the object like a function."
      ],
      "metadata": {
        "id": "DT7RzW5lFhDr"
      }
    },
    {
      "cell_type": "code",
      "source": [
        "class Multiplier:\n",
        "  def __init__(self, factor):\n",
        "    self.factor = factor\n",
        "\n",
        "  def __call__(self, value): #makes object callable\n",
        "    return self.factor * value\n",
        "\n",
        "m = Multiplier(3)\n",
        "print(callable(m)) #True\n",
        "print(m(10))  # Acts like a function"
      ],
      "metadata": {
        "colab": {
          "base_uri": "https://localhost:8080/"
        },
        "id": "-_iuJBGnFiix",
        "outputId": "94ebf04b-5de8-4996-b16d-7af6fc05eced"
      },
      "execution_count": 3,
      "outputs": [
        {
          "output_type": "stream",
          "name": "stdout",
          "text": [
            "True\n",
            "30\n"
          ]
        }
      ]
    },
    {
      "cell_type": "markdown",
      "source": [
        "20. Creating a Custom Exception\n",
        "Assignment:\n",
        "Create a custom exception InvalidAgeError. Write a function check_age(age) that raises this exception if age < 18. Handle it with try...except.\n",
        "\n"
      ],
      "metadata": {
        "id": "-WyjGpHXGGd-"
      }
    },
    {
      "cell_type": "code",
      "source": [
        "class InvalidAgeError(Exception):\n",
        "  pass #User-defined exception\n",
        "\n",
        "def check_age(age):\n",
        "  if age < 18:\n",
        "    raise InvalidAgeError(\"Must be 18+\")\n",
        "\n",
        "try:\n",
        "  check_age(16)\n",
        "except InvalidAgeError as e:\n",
        "    print(\"Caught:\", e)"
      ],
      "metadata": {
        "colab": {
          "base_uri": "https://localhost:8080/"
        },
        "id": "DXF3AgdHGHny",
        "outputId": "4a74459e-1a3b-42f6-e15e-32ba07747e82"
      },
      "execution_count": 4,
      "outputs": [
        {
          "output_type": "stream",
          "name": "stdout",
          "text": [
            "Caught: Must be 18+\n"
          ]
        }
      ]
    },
    {
      "cell_type": "markdown",
      "source": [
        "21. Make a Custom Class Iterable\n",
        "Assignment:\n",
        "Create a class Countdown that takes a start number. Implement __iter__() and __next__() to make the object iterable in a for-loop, counting down to 0."
      ],
      "metadata": {
        "id": "eGzBxN5mGspJ"
      }
    },
    {
      "cell_type": "code",
      "source": [
        "class Countdown:\n",
        "  def __init__(self, start):\n",
        "    self.start = start\n",
        "\n",
        "  def __iter__(self): # Required to return iterator\n",
        "    self.current = self.start\n",
        "    return self\n",
        "\n",
        "  def __next__(self): # Required to make object iterable\n",
        "    if self.current < 0:\n",
        "      raise StopIteration\n",
        "    val = self.current\n",
        "    self.current -= 1\n",
        "    return val\n",
        "\n",
        "for num in Countdown(5):\n",
        "  print(num)"
      ],
      "metadata": {
        "colab": {
          "base_uri": "https://localhost:8080/"
        },
        "id": "1L_--5cMGtp3",
        "outputId": "ab9d9f1e-bb81-4037-94b5-42a81800e696"
      },
      "execution_count": 9,
      "outputs": [
        {
          "output_type": "stream",
          "name": "stdout",
          "text": [
            "5\n",
            "4\n",
            "3\n",
            "2\n",
            "1\n",
            "0\n"
          ]
        }
      ]
    }
  ]
}